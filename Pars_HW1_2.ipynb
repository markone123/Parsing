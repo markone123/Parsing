{
 "cells": [
  {
   "cell_type": "markdown",
   "metadata": {},
   "source": [
    "1. Посмотреть документацию к API GitHub, разобраться как вывести список репозиториев для конкретного пользователя, сохранить JSON-вывод в файле *.json.\n",
    "2. Изучить список открытых API. Найти среди них любое, требующее авторизацию (любого типа). Выполнить запросы к нему, пройдя авторизацию. Ответ сервера записать в файл."
   ]
  },
  {
   "cell_type": "markdown",
   "metadata": {},
   "source": [
    "Задание 2. Изучить список открытых API. Найти среди них любое, требующее авторизацию (любого типа). Выполнить запросы к нему, пройдя авторизацию. Ответ сервера записать в файл."
   ]
  },
  {
   "cell_type": "code",
   "execution_count": 5,
   "metadata": {},
   "outputs": [],
   "source": [
    "import os\n",
    "import json\n",
    "import requests"
   ]
  },
  {
   "cell_type": "code",
   "execution_count": 72,
   "metadata": {},
   "outputs": [
    {
     "name": "stdout",
     "output_type": "stream",
     "text": [
      "<Response [200]>\n"
     ]
    }
   ],
   "source": [
    "import requests\n",
    "\n",
    "with requests.Session() as session:\n",
    "    g = session.get('https://www.hh.ru/',headers = headers)\n",
    "    xsrf = g.headers['Set-Cookie']\n",
    "    xsrf = xsrf.split(' ')\n",
    "    xsrf = xsrf[0][6:-1]\n",
    "    login_data = dict(username = 'аndrei.marakhovsky@gmail.com',\n",
    "                      password = 'qwerty123654',\n",
    "                      backUrl = 'https://www.hh.ru/',\n",
    "                      _xsrf = xsrf,\n",
    "                      failUrl = '/account/login?backurl=%2F',\n",
    "                      remember = 'None')\n",
    "\n",
    "    #print(req)\n",
    "    #print(req.url)\n",
    "    #print(req.text)\n",
    "    #print(req.json)\n",
    "  \n",
    "    url = \"https://api.hh.ru\"\n",
    "    data = requests.get(url)\n",
    "    print(data)\n",
    "    \n",
    " \n",
    "   \n",
    "\n",
    "    with open ('hh_login.txt', 'w') as file:\n",
    "        file.write(str(data))\n",
    "    \n",
    " "
   ]
  },
  {
   "cell_type": "code",
   "execution_count": null,
   "metadata": {},
   "outputs": [],
   "source": []
  }
 ],
 "metadata": {
  "kernelspec": {
   "display_name": "Python 3",
   "language": "python",
   "name": "python3"
  },
  "language_info": {
   "codemirror_mode": {
    "name": "ipython",
    "version": 3
   },
   "file_extension": ".py",
   "mimetype": "text/x-python",
   "name": "python",
   "nbconvert_exporter": "python",
   "pygments_lexer": "ipython3",
   "version": "3.7.3"
  }
 },
 "nbformat": 4,
 "nbformat_minor": 2
}
